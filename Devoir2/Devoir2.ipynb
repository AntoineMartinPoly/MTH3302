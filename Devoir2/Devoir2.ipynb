{
 "cells": [
  {
   "cell_type": "markdown",
   "metadata": {},
   "source": [
    "# MTH3302 : Méthodes probabilistes et statistiques pour l'I.A.\n",
    "\n",
    "Jonathan Jalbert<br/>\n",
    "Professeur adjoint au Département de mathématiques et de génie industriel<br/>\n",
    "Polytechnique Montréal<br/>\n",
    "\n",
    "# Devoir 2 - Régression linéaire ( 15 points )\n",
    "\n",
    "Le présent devoir concerne les notions de la régression linéaire vues au Chapitre 2 du cours. Pour ce devoir, vous devez élaborer une analyse complète de régression à l'exercice 1 pour répondre aux questions de l'exercice 2.\n",
    "\n",
    "\n",
    "## Devoir effectué par\n",
    "\n",
    "NOM, PRÉNOM - MATRICULE\n",
    "\n",
    "NOM, PRÉNOM - MARTICULE\n",
    "\n",
    "**Déclaration d’intégrité relative au plagiat**\n",
    "\n",
    "Nous certifions sur l’honneur :\n",
    "- Que les résultats décrits dans ce rapport sont l’aboutissement de notre travail.\n",
    "- Que nous sommes les auteurs de ce rapport.\n",
    "- Que nous n'avons pas utilisé des sources ou résultats tiers sans clairement les citer et les référencer selon les règles bibliographiques préconisées.\n",
    "\n",
    "Nous déclarons que ce travail ne peut être soupçonné de plagiat.\n",
    "\n",
    "\n",
    "\n",
    "\n",
    "\n",
    "# Contexte : Valeur de revente des voitures\n",
    "\n",
    "Dans ce devoir, on s'intéresse au prix de vente des voitures usagées en fonctions de plusieurs caractéristiques. \n",
    "\n",
    "Le jeu de données *cardata.csv* compilé en 2019 contient les informations suivantes pour chaque voitures usagées :\n",
    "\n",
    "- Price : le prix de revente de la voiture en pourcentage du prix d'achat ;\n",
    "- Year : l'année de la voiture ;\n",
    "- Km : le kilométrage de la voiture ;\n",
    "- Fuel : le type de carburant utilisée (Pétrol, Diesel, Gaz naturel comprimé) ;\n",
    "- Seller : le type de vendeur (individu ou concessionnaire) ;\n",
    "- Transmission : le type de transmission de la voiture (automatique ou manuel)\n",
    "- PreviousOwner : le nombre de propriétaires de la voiture avant le propriétaire actuel.\n",
    "\n",
    "\n",
    "# Consignes\n",
    "\n",
    "- Le devoir doit être remis sur Moodle **avant 23h59 le mardi 29 septembre 2020.** Les retards ne seront pas tolérés car le solutionnaire sera publié dès mercredi.\n",
    "- Le devoir a une pondération de 15%.\n",
    "- Écrivez vos noms et vos matricules dans l'espace prévu à cet effet de cette cellule.\n",
    "- Vous pouvez compléter le devoir en équipe de deux personnes. Dans ce cas, un seul fichier par équipe doit être remis. Pour vous aider à trouver un coéquipier, le canal de discussion *#trouver_un_coéquipier* a été créé sur Slack.\n",
    "- Le devoir doit être complété dans le présent calepin Jupyter en ajoutant autant de cellules de texte et de code que nécessaires. Vous remettrez ce fichier en format *.ipynb*. Le nom du fichier doit être *matricule1_matricule2_devoir2.ipynb*.\n",
    "- N'utilisez que les librairies introduites à la cellule suivante.\n",
    "- L'exercice 1 est volontairement laissé en format libre. Vous avez la liberté de laisser aller votre créativité pour construire votre modèle de régression linéaire. \n",
    "\n",
    "## Chargement des libairies"
   ]
  },
  {
   "cell_type": "code",
   "execution_count": 3,
   "metadata": {},
   "outputs": [],
   "source": [
    "using Combinatorics    # Pour l'énumération de toutes les possibilités\n",
    "using CSV              # Pour la manipulation des fichiers CSV\n",
    "using DataFrames       # Pour l'utilisation des DataFrame\n",
    "using Distributions    # Pour l'utilisation des lois de probabilités\n",
    "using Gadfly           # Pour la création de figures\n",
    "using LinearAlgebra    # Pour l'utilisation de fonctions d'algèbre linéaire\n",
    "using Statistics       # Pour l'utilisation de fonctions statistiques de bases  "
   ]
  },
  {
   "cell_type": "markdown",
   "metadata": {},
   "source": [
    "## Chargement des données"
   ]
  },
  {
   "cell_type": "code",
   "execution_count": 4,
   "metadata": {},
   "outputs": [
    {
     "data": {
      "text/html": [
       "<table class=\"data-frame\"><thead><tr><th></th><th>Price</th><th>Year</th><th>Km</th><th>Fuel</th><th>Seller</th><th>Transmission</th><th>PreviousOwner</th></tr><tr><th></th><th>Float64</th><th>Int64</th><th>Int64</th><th>String</th><th>String</th><th>String</th><th>Int64</th></tr></thead><tbody><p>10 rows × 7 columns</p><tr><th>1</th><td>0.599284</td><td>2014</td><td>27000</td><td>Petrol</td><td>Dealer</td><td>Manual</td><td>0</td></tr><tr><th>2</th><td>0.497904</td><td>2013</td><td>43000</td><td>Diesel</td><td>Dealer</td><td>Manual</td><td>0</td></tr><tr><th>3</th><td>0.736041</td><td>2017</td><td>6900</td><td>Petrol</td><td>Dealer</td><td>Manual</td><td>0</td></tr><tr><th>4</th><td>0.686747</td><td>2011</td><td>5200</td><td>Petrol</td><td>Dealer</td><td>Manual</td><td>0</td></tr><tr><th>5</th><td>0.669578</td><td>2014</td><td>42450</td><td>Diesel</td><td>Dealer</td><td>Manual</td><td>0</td></tr><tr><th>6</th><td>0.940997</td><td>2018</td><td>2071</td><td>Diesel</td><td>Dealer</td><td>Manual</td><td>0</td></tr><tr><th>7</th><td>0.831281</td><td>2015</td><td>18796</td><td>Petrol</td><td>Dealer</td><td>Manual</td><td>0</td></tr><tr><th>8</th><td>0.754936</td><td>2015</td><td>33429</td><td>Diesel</td><td>Dealer</td><td>Manual</td><td>0</td></tr><tr><th>9</th><td>0.984252</td><td>2016</td><td>20273</td><td>Diesel</td><td>Dealer</td><td>Manual</td><td>0</td></tr><tr><th>10</th><td>0.835202</td><td>2015</td><td>42367</td><td>Diesel</td><td>Dealer</td><td>Manual</td><td>0</td></tr></tbody></table>"
      ],
      "text/latex": [
       "\\begin{tabular}{r|ccccccc}\n",
       "\t& Price & Year & Km & Fuel & Seller & Transmission & PreviousOwner\\\\\n",
       "\t\\hline\n",
       "\t& Float64 & Int64 & Int64 & String & String & String & Int64\\\\\n",
       "\t\\hline\n",
       "\t1 & 0.599284 & 2014 & 27000 & Petrol & Dealer & Manual & 0 \\\\\n",
       "\t2 & 0.497904 & 2013 & 43000 & Diesel & Dealer & Manual & 0 \\\\\n",
       "\t3 & 0.736041 & 2017 & 6900 & Petrol & Dealer & Manual & 0 \\\\\n",
       "\t4 & 0.686747 & 2011 & 5200 & Petrol & Dealer & Manual & 0 \\\\\n",
       "\t5 & 0.669578 & 2014 & 42450 & Diesel & Dealer & Manual & 0 \\\\\n",
       "\t6 & 0.940997 & 2018 & 2071 & Diesel & Dealer & Manual & 0 \\\\\n",
       "\t7 & 0.831281 & 2015 & 18796 & Petrol & Dealer & Manual & 0 \\\\\n",
       "\t8 & 0.754936 & 2015 & 33429 & Diesel & Dealer & Manual & 0 \\\\\n",
       "\t9 & 0.984252 & 2016 & 20273 & Diesel & Dealer & Manual & 0 \\\\\n",
       "\t10 & 0.835202 & 2015 & 42367 & Diesel & Dealer & Manual & 0 \\\\\n",
       "\\end{tabular}\n"
      ],
      "text/plain": [
       "10×7 DataFrame. Omitted printing of 1 columns\n",
       "│ Row │ Price    │ Year  │ Km    │ Fuel   │ Seller │ Transmission │\n",
       "│     │ \u001b[90mFloat64\u001b[39m  │ \u001b[90mInt64\u001b[39m │ \u001b[90mInt64\u001b[39m │ \u001b[90mString\u001b[39m │ \u001b[90mString\u001b[39m │ \u001b[90mString\u001b[39m       │\n",
       "├─────┼──────────┼───────┼───────┼────────┼────────┼──────────────┤\n",
       "│ 1   │ 0.599284 │ 2014  │ 27000 │ Petrol │ Dealer │ Manual       │\n",
       "│ 2   │ 0.497904 │ 2013  │ 43000 │ Diesel │ Dealer │ Manual       │\n",
       "│ 3   │ 0.736041 │ 2017  │ 6900  │ Petrol │ Dealer │ Manual       │\n",
       "│ 4   │ 0.686747 │ 2011  │ 5200  │ Petrol │ Dealer │ Manual       │\n",
       "│ 5   │ 0.669578 │ 2014  │ 42450 │ Diesel │ Dealer │ Manual       │\n",
       "│ 6   │ 0.940997 │ 2018  │ 2071  │ Diesel │ Dealer │ Manual       │\n",
       "│ 7   │ 0.831281 │ 2015  │ 18796 │ Petrol │ Dealer │ Manual       │\n",
       "│ 8   │ 0.754936 │ 2015  │ 33429 │ Diesel │ Dealer │ Manual       │\n",
       "│ 9   │ 0.984252 │ 2016  │ 20273 │ Diesel │ Dealer │ Manual       │\n",
       "│ 10  │ 0.835202 │ 2015  │ 42367 │ Diesel │ Dealer │ Manual       │"
      ]
     },
     "execution_count": 4,
     "metadata": {},
     "output_type": "execute_result"
    }
   ],
   "source": [
    "data = CSV.read(\"cardata.csv\")\n",
    "first(data, 10)"
   ]
  },
  {
   "cell_type": "markdown",
   "metadata": {},
   "source": [
    "# Exercice 1 - Modèle de régression linéaire ( 10 points )\n",
    "\n",
    "Dans ce premier exercice, élaborez un modèle de régression permettant de modéliser le prix de revente des voitures (Price) en fonction des variables explicatives. Pour obtenir votre modèle final, je vous propose d'effectuer les étapes suivantes mais pas nécessairement dans cet ordre :\n",
    "\n",
    " - Vérifier la présence de multicolinéarité dans les variables explicatives.\n",
    " - Effectuer une transformation des variables si nécessaire.\n",
    " - Sélectionner le meilleur sous-ensemble de variables explicatives.\n",
    " - Vérifier s'il y a présence de valeurs abérantes nuisant à l'estimation des paramètres.\n",
    " - Vérifier si les hypothèses de la régression sont satisfaites.\n",
    " \n",
    "Vous devez présenter et justifier votre modèle final sans nécessairement détailler toutes les étapes intermédiaires. Par exemple, si une transformation des variables s'avérait nécessaire, présentez seulement la transformation finale et pas toutes celle que vous avez essayé. Simplement mentionnez les autres transformations essayées et expliquez pourquoi vous les avez écarté. \n",
    "\n",
    "Gardez en tête que le correcteur doit pouvoir suivre votre raisonnement sans se perdre dans les détails. "
   ]
  },
  {
   "cell_type": "code",
   "execution_count": null,
   "metadata": {},
   "outputs": [],
   "source": []
  },
  {
   "cell_type": "markdown",
   "metadata": {},
   "source": [
    "# Exercice 2 - Exploitation du modèle ( 5 points )\n",
    "\n",
    "Utilisez le modèle développé à l'exercice 1 pour répondre aux questions suivantes.\n",
    "\n",
    "## a) Quel est le facteur qui déprécie le plus la valeur de revente d'une voiture ? \n",
    "\n",
    "Justifiez bien votre réponse."
   ]
  },
  {
   "cell_type": "code",
   "execution_count": null,
   "metadata": {},
   "outputs": [],
   "source": []
  },
  {
   "cell_type": "markdown",
   "metadata": {},
   "source": [
    "## b) Quelle est la dépréciation moyenne de la valeur de revente d'une voiture en fonction de son âge ? Obtenez également un intervalle de confiance à 90% de cette quantité."
   ]
  },
  {
   "cell_type": "code",
   "execution_count": null,
   "metadata": {},
   "outputs": [],
   "source": []
  },
  {
   "cell_type": "markdown",
   "metadata": {},
   "source": [
    "## c) Est-ce que le type de carburant utilisée par la voiture influence la valeur de revente ? Le cas échéant, classez les carburants selon la valeur de revente moyenne.\n",
    "\n",
    "Justifiez bien votre réponse."
   ]
  },
  {
   "cell_type": "code",
   "execution_count": null,
   "metadata": {},
   "outputs": [],
   "source": []
  }
 ],
 "metadata": {
  "@webio": {
   "lastCommId": null,
   "lastKernelId": null
  },
  "kernelspec": {
   "display_name": "Julia 1.5.1",
   "language": "julia",
   "name": "julia-1.5"
  },
  "language_info": {
   "file_extension": ".jl",
   "mimetype": "application/julia",
   "name": "julia",
   "version": "1.5.1"
  }
 },
 "nbformat": 4,
 "nbformat_minor": 2
}
